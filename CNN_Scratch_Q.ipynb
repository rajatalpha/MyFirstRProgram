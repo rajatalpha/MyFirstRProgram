{
 "cells": [
  {
   "cell_type": "markdown",
   "metadata": {},
   "source": [
    "### Welcome to MFDM - AI Slamdunk Hackathon . \n",
    "\n",
    "#### This hackathon has two parts  \n",
    "\n",
    "1. Developing basic image transformation operations \n",
    "2. Developing convolutional operations \n",
    "\n",
    "-----------------------------------------------------------------------------------------------\n",
    "\n",
    "\n",
    "#### Some Instructions \n",
    "\n",
    "1. Kindly follow the naming convention mentioned in the jupyter notebook - else your code will not be testable \n",
    "2. Necessary Instructions have been provided\n",
    "3. Dont forget to run the final cell in the jupyter notebook failing which your efforts will be invalid \n",
    "-------------------------------------------------------------------------------------------------"
   ]
  },
  {
   "cell_type": "markdown",
   "metadata": {},
   "source": [
    "#### Import the necessary packages here"
   ]
  },
  {
   "cell_type": "code",
   "execution_count": 1,
   "metadata": {},
   "outputs": [],
   "source": [
    "import numpy as np\n",
    "import matplotlib.pyplot as plt\n",
    "\n",
    "\n",
    "\n"
   ]
  },
  {
   "cell_type": "markdown",
   "metadata": {},
   "source": [
    "# Define functions for the following tasks using same function and parameter names:\n",
    "    1. rgb2gray(img) - Converts RGB image to Grayscale\n",
    "    2. tilt(img, angle) - Rotates the image by the specified angle\n",
    "    3. horizontal_flip(img) - Flip image along Y - axis\n",
    "    4. vertical_flip(img) - Flip image along X - axis\n",
    "    5. crop(img,x1,y1,x2,y2) - Crop out the specified image window\n",
    "### You may use scikit-image which is preinstalled in this environment"
   ]
  },
  {
   "cell_type": "code",
   "execution_count": null,
   "metadata": {},
   "outputs": [],
   "source": [
    "## Function name: rgb2gray\n",
    "## parameters : img: np.array - Multi Channel\n",
    "## return-type: img: np.array\n",
    "\n",
    "### Define your function here (will be evaluated)\n"
   ]
  },
  {
   "cell_type": "code",
   "execution_count": null,
   "metadata": {},
   "outputs": [],
   "source": [
    "## Function name: tilt\n",
    "## parameters : img: np.array\n",
    "##              angle: int - 0 to 360\n",
    "## return-type: img: np.array\n",
    "\n",
    "### Define your function here (will be evaluated)\n"
   ]
  },
  {
   "cell_type": "code",
   "execution_count": null,
   "metadata": {},
   "outputs": [],
   "source": [
    "## Function name: horizontal_flip\n",
    "## parameters : img: np.array\n",
    "## return-type: img: np.array\n",
    "\n",
    "### Define your function here (will be evaluated)\n"
   ]
  },
  {
   "cell_type": "code",
   "execution_count": null,
   "metadata": {},
   "outputs": [],
   "source": [
    "## Function name: vertical_flip\n",
    "## parameters : img: np.array\n",
    "## return-type: img: np.array\n",
    "\n",
    "### Define your function here (will be evaluated)\n"
   ]
  },
  {
   "cell_type": "code",
   "execution_count": null,
   "metadata": {},
   "outputs": [],
   "source": [
    "## Function name: crop\n",
    "## parameters : img: np.array - Single Channel or Multi Channel\n",
    "##              x1: int - Window X_min\n",
    "##              y1: int - Window Y_min\n",
    "##              x2: int - Window X_max\n",
    "##              y2: int - Window Y_max\n",
    "## return-type: img: np.array\n",
    "\n",
    "### Define your function here (will be evaluated)\n"
   ]
  },
  {
   "cell_type": "markdown",
   "metadata": {},
   "source": [
    "### Implement the convolution operations using numpy as per the instructions given below\n",
    "\n",
    "- You are only allowed to use Numpy package to perform convolution operations, please avoid using other packages, doing so you will be disqualified."
   ]
  },
  {
   "cell_type": "code",
   "execution_count": 1,
   "metadata": {},
   "outputs": [],
   "source": [
    "## Function name: convolution\n",
    "## parameters : img: np.array - Single Channel or Multi Channel\n",
    "##              layer_filters: np.array - Shape: (num_filters, filter_height, filter_width, num_channels) if Multichannel else\n",
    "##                                        Shape: (num_filters, filter_height, filter_width) if Singlechannel\n",
    "##              padding: str - 'same' or 'valid', default = 'valid'\n",
    "## return-type: img: np.array\n",
    "\n",
    "### Define your function here (will be evaluated)\n",
    "\n",
    "\n"
   ]
  },
  {
   "cell_type": "markdown",
   "metadata": {},
   "source": [
    "### Sample IO"
   ]
  },
  {
   "cell_type": "markdown",
   "metadata": {},
   "source": [
    "### GrayScale Image    (use this as a sample image to test your functions)\n",
    "<img src = 'resz_gray.png'>\n",
    "\n",
    "#### image location resz_gray.png in the current directory"
   ]
  },
  {
   "cell_type": "code",
   "execution_count": null,
   "metadata": {},
   "outputs": [],
   "source": [
    "### Sample filters to test your output, use plt.imshow() to output the resulting image\n",
    "\n",
    "num_filters = 4\n",
    "filter_h = 3\n",
    "filter_w = 3\n",
    "\n",
    "layer1_filter = np.zeros((num_filters, filter_h, filter_w))\n",
    "\n",
    "#Vertical\n",
    "layer1_filter[0,:,:] = np.array([\n",
    "    [\n",
    "        [-1,0,1],\n",
    "        [-1,0,1], \n",
    "        [-1,0,1]\n",
    "    ]\n",
    "])\n",
    "#Horizontal\n",
    "layer1_filter[1,:,:] = np.array([\n",
    "    [\n",
    "        [1,1,1],\n",
    "        [0,0,0],\n",
    "        [-1,-1,-1]\n",
    "    ]\n",
    "])\n",
    "#Blur\n",
    "layer1_filter[2,:,:] = np.array([\n",
    "    [\n",
    "        [1/1e9,1/1e9,1/1e9],\n",
    "        [1/1e9,1/1e9,1/1e9],\n",
    "        [1/1e9,1/1e9,1/1e9]\n",
    "    ]\n",
    "])\n",
    "#Sharpen\n",
    "layer1_filter[3,:,:] = np.array([\n",
    "    [\n",
    "        [0,-1,0],\n",
    "        [-1,5,-1],\n",
    "        [0,-1,0]\n",
    "    ]\n",
    "])\n",
    "\"\"\"\n",
    "Use the above filters to test your convolution function on variaous filter defined above.\n",
    "use plt.imshow() on the resulting n-d array to test the output against the expected output \n",
    "shown in the below cell.\n",
    "\"\"\""
   ]
  },
  {
   "cell_type": "markdown",
   "metadata": {},
   "source": [
    "## Convolution  (expected output after convolution)\n",
    "    Input:Single channel image, padding='same'\n",
    "<img src = 'post_conv.png'>"
   ]
  },
  {
   "cell_type": "code",
   "execution_count": 6,
   "metadata": {},
   "outputs": [],
   "source": [
    "## Function name: relu\n",
    "## parameters : img: np.array - Single Channel or Multi Channel\n",
    "## return-type: img: np.array\n",
    "\n",
    "### Define your function here (will be evaluated)\n",
    "\n",
    "\n"
   ]
  },
  {
   "cell_type": "markdown",
   "metadata": {},
   "source": [
    "### Output image after applying Relu\n",
    "    Input: Images after convolution\n",
    "<img src = 'post_relu.png'>"
   ]
  },
  {
   "cell_type": "code",
   "execution_count": 7,
   "metadata": {},
   "outputs": [],
   "source": [
    "## Function name: pooling\n",
    "## parameters : img: np.array - Single Channel or Multi Channel\n",
    "##              size: int - default=2\n",
    "##              stride: int - default = 2\n",
    "##              mode: str = \"max\" or \"avg\" - default = 'max'\n",
    "## return-type: img: np.array\n",
    "\n",
    "\n",
    "### Define your function here (will be evaluated)\n",
    "\n",
    "\n"
   ]
  },
  {
   "cell_type": "markdown",
   "metadata": {},
   "source": [
    "### Output image after applying Pooling\n",
    "    Input: Images after relu, size = 3, stride = 3, mode = 'max'\n",
    "<img src = 'post_pool.png'>"
   ]
  },
  {
   "cell_type": "markdown",
   "metadata": {},
   "source": [
    "### Once you are done with your solution run the below cell before running the test cases"
   ]
  },
  {
   "cell_type": "code",
   "execution_count": 8,
   "metadata": {
    "scrolled": true
   },
   "outputs": [
    {
     "name": "stdout",
     "output_type": "stream",
     "text": [
      "[NbConvertApp] Converting notebook CNN_Scratch_Q.ipynb to script\n",
      "[NbConvertApp] Writing 1774 bytes to CNN_Scratch_Q.py\n"
     ]
    }
   ],
   "source": [
    "import os\n",
    "if __name__=='__main__':\n",
    "    !jupyter nbconvert --to script CNN_Scratch_Q.ipynb\n",
    "    \n",
    "\n",
    "    cwd = os.getcwd()\n",
    "\n",
    "    pwd = os.path.dirname(cwd)\n",
    "\n",
    "    os.rename(cwd+\"/CNN_Scratch_Q.py\", pwd+\"/contestant.py\")"
   ]
  }
 ],
 "metadata": {
  "kernelspec": {
   "display_name": "Python 3",
   "language": "python",
   "name": "python3"
  },
  "language_info": {
   "codemirror_mode": {
    "name": "ipython",
    "version": 3
   },
   "file_extension": ".py",
   "mimetype": "text/x-python",
   "name": "python",
   "nbconvert_exporter": "python",
   "pygments_lexer": "ipython3",
   "version": "3.6.5"
  }
 },
 "nbformat": 4,
 "nbformat_minor": 2
}